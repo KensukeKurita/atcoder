{
 "cells": [
  {
   "cell_type": "markdown",
   "metadata": {
    "collapsed": true,
    "pycharm": {
     "name": "#%% md\n"
    }
   },
   "source": [
    "[問題C-ChooseElements](https://atcoder.jp/contests/abc245/editorial/3634)\n",
    "\n",
    "要素数N個の２種類の配列から選んで配列Xを作るので、総当たりで考えると配列の作り方は2^Nで、現実的ではない。\n",
    "\n",
    "しかし、この問題で重要なのは、X_{i+1}を考える際にX_{i}の情報だけ知っていれば良いということである。\n",
    "さらにいえば、X_{i}=A_i or B_i、のどちらか（あるいは両方）なのかを知っていれば良い。"
   ],
   "outputs": []
  },
  {
   "cell_type": "code",
   "execution_count": null,
   "outputs": [],
   "source": [
    "N, K = map(int, input().split())\n",
    "A = [int(x) for x in input().split()]\n",
    "B = [int(x) for x in input().split()]\n",
    "X = {\"A\": True, \"B\":True}\n",
    "for i in range(N-1):\n",
    "    # For A\n",
    "    X_new = {\"A\": False, \"B\":False}\n",
    "    if X[\"A\"] and abs(A[i+1] - A[i])<=K:\n",
    "        X_new[\"A\"] = True\n",
    "    elif X[\"B\"] and abs(A[i+1] - B[i])<=K:\n",
    "        X_new[\"A\"] = True\n",
    "\n",
    "    # For B\n",
    "    if X[\"A\"] and abs(B[i+1] - A[i])<=K:\n",
    "        X_new[\"B\"] = True\n",
    "    elif X[\"B\"] and abs(B[i+1] - B[i])<=K:\n",
    "        X_new[\"B\"] = True\n",
    "    X = X_new\n",
    "\n",
    "if X[\"A\"] or X[\"B\"]:\n",
    "    print(\"Yes\")\n",
    "else:\n",
    "    print(\"No\")"
   ],
   "metadata": {
    "collapsed": false,
    "pycharm": {
     "name": "#%%\n"
    }
   }
  }
 ],
 "metadata": {
  "kernelspec": {
   "display_name": "Python 3",
   "language": "python",
   "name": "python3"
  },
  "language_info": {
   "codemirror_mode": {
    "name": "ipython",
    "version": 2
   },
   "file_extension": ".py",
   "mimetype": "text/x-python",
   "name": "python",
   "nbconvert_exporter": "python",
   "pygments_lexer": "ipython2",
   "version": "2.7.6"
  }
 },
 "nbformat": 4,
 "nbformat_minor": 0
}