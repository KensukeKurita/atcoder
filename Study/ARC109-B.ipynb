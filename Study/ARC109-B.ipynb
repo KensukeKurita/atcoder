{
 "cells": [
  {
   "cell_type": "markdown",
   "metadata": {},
   "source": [
    "# ARC 109 - B\n",
    "1, 2, ..., n+1　の長さの丸太が各１本ある。それぞれ１円である。  \n",
    "できるだけ安い値段で、購入したり、切ったりして、1, 2, ..., n の長さの丸太を一方づつ作る。"
   ]
  },
  {
   "cell_type": "markdown",
   "metadata": {},
   "source": [
    "## 方針\n",
    "どの丸太も同じ値段だから、一番長いn+1の丸太を購入して、短い丸太をたくさん作るのがよい。\n",
    "$$\n",
    "n + 1 \\geq 1 + 2 + 3 + ... + k\n",
    "$$\n",
    "となるような最大のkを見つけ(イコールでない場合は捨てても良い)、k+1〜nまでは1本ずつ買えばいい。"
   ]
  },
  {
   "cell_type": "code",
   "execution_count": 36,
   "metadata": {},
   "outputs": [
    {
     "name": "stdout",
     "output_type": "stream",
     "text": [
      "999999998765257139\n",
      "999999998765257088\n",
      "1000000000179470720\n",
      "1414213561\n",
      "999999997351043579\n"
     ]
    }
   ],
   "source": [
    "import math\n",
    "n = int(input())\n",
    "k_r = (-1.0 + math.sqrt(1 + 8*n + 8)) / 2.0\n",
    "# print(k_r)\n",
    "k_i = int(k_r)\n",
    "print(n)\n",
    "print(\"{}\".format(int(1/2 * k_i * (k_i + 1))))\n",
    "print(\"{}\".format(int(1/2 * (k_i+1) * (k_i + 2))))\n",
    "print(k_i)\n",
    "# print(k_i)\n",
    "# print(1/2 * k_i * (k_i+1))\n",
    "# print(n - (k_i+1) + 1)\n",
    "ans = 1 + n - (k_i+1) + 1\n",
    "print(ans)"
   ]
  },
  {
   "cell_type": "code",
   "execution_count": 39,
   "metadata": {},
   "outputs": [
    {
     "name": "stdout",
     "output_type": "stream",
     "text": [
      "999999997351043580\n"
     ]
    }
   ],
   "source": [
    "import sys\n",
    " \n",
    "N=int(input())\n",
    "l,r=0,N+12\n",
    "while r-l!=1:\n",
    "    m=(r+l)//2\n",
    "    if m*(m+1)//2<=N+1:\n",
    "        l=m\n",
    "    else:\n",
    "        r=m\n",
    "print(N-l+1)"
   ]
  },
  {
   "cell_type": "code",
   "execution_count": null,
   "metadata": {},
   "outputs": [],
   "source": []
  }
 ],
 "metadata": {
  "interpreter": {
   "hash": "490f1c2dbba3b6e66347447b5b555b0a6d7bd3e1827bc2938cd9180af86153ea"
  },
  "kernelspec": {
   "display_name": "Python 3.6.12 ('py36')",
   "language": "python",
   "name": "python3"
  },
  "language_info": {
   "codemirror_mode": {
    "name": "ipython",
    "version": 3
   },
   "file_extension": ".py",
   "mimetype": "text/x-python",
   "name": "python",
   "nbconvert_exporter": "python",
   "pygments_lexer": "ipython3",
   "version": "3.6.12"
  },
  "orig_nbformat": 4
 },
 "nbformat": 4,
 "nbformat_minor": 2
}
