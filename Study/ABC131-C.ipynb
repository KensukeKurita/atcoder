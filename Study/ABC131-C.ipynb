{
 "cells": [
  {
   "cell_type": "markdown",
   "metadata": {
    "collapsed": true,
    "pycharm": {
     "name": "#%% md\n"
    }
   },
   "source": [
    "# Anti-Division\n",
    "[ABC 131 C](https://atcoder.jp/contests/abc131/tasks/abc131_c)"
   ]
  },
  {
   "cell_type": "code",
   "execution_count": 81,
   "outputs": [],
   "source": [
    "import math\n",
    "def lcm(a, b):\n",
    "    y = a*b / math.gcd(a, b)\n",
    "    return int(y)"
   ],
   "metadata": {
    "collapsed": false,
    "pycharm": {
     "name": "#%%\n"
    }
   }
  },
  {
   "cell_type": "code",
   "execution_count": 98,
   "outputs": [
    {
     "name": "stdout",
     "output_type": "stream",
     "text": [
      "532105071133627368\n"
     ]
    }
   ],
   "source": [
    "def kiriage(A, C):\n",
    "    if A % C == 0:\n",
    "        return A//C\n",
    "    else:\n",
    "        return A//C + 1\n",
    "\n",
    "A, B, C, D = [int(x) for x in input().split()]\n",
    "U = B - A + 1\n",
    "CD = lcm(C, D)\n",
    "P_C = B // C - kiriage(A, C) + 1\n",
    "P_D = B // D - kiriage(A, D) + 1\n",
    "P_CandD = B // CD - kiriage(A, CD) + 1\n",
    "\n",
    "print(U - P_C - P_D + P_CandD)\n",
    "\n"
   ],
   "metadata": {
    "collapsed": false,
    "pycharm": {
     "name": "#%%\n"
    }
   }
  },
  {
   "cell_type": "markdown",
   "source": [
    "求める数は、全体Ｕから\n",
    "$$U-(Cで割れる+Dで割れる~-~CでもDでも割れる)$$\n",
    "としたものである。"
   ],
   "metadata": {
    "collapsed": false,
    "pycharm": {
     "name": "#%% md\n"
    }
   }
  },
  {
   "cell_type": "code",
   "execution_count": 97,
   "outputs": [
    {
     "name": "stdout",
     "output_type": "stream",
     "text": [
      "23\n"
     ]
    }
   ],
   "source": [
    "count = 0\n",
    "for i in range(A, B+1):\n",
    "    if i % C != 0 and i % D != 0:\n",
    "        count += 1\n",
    "\n",
    "print(count)"
   ],
   "metadata": {
    "collapsed": false,
    "pycharm": {
     "name": "#%%\n"
    }
   }
  },
  {
   "cell_type": "code",
   "execution_count": null,
   "outputs": [],
   "source": [],
   "metadata": {
    "collapsed": false,
    "pycharm": {
     "name": "#%%\n"
    }
   }
  }
 ],
 "metadata": {
  "kernelspec": {
   "display_name": "Python 3",
   "language": "python",
   "name": "python3"
  },
  "language_info": {
   "codemirror_mode": {
    "name": "ipython",
    "version": 2
   },
   "file_extension": ".py",
   "mimetype": "text/x-python",
   "name": "python",
   "nbconvert_exporter": "python",
   "pygments_lexer": "ipython2",
   "version": "2.7.6"
  }
 },
 "nbformat": 4,
 "nbformat_minor": 0
}