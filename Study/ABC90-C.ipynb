{
 "cells": [
  {
   "cell_type": "markdown",
   "metadata": {},
   "source": [
    "# 問題 ABC90-C\n",
    "以下の操作を、カードが置かれている全てのマスについて1度ずつ行います。\n",
    "- そのマスと辺または点で接する8つのマスと、そのマスの合計9マスについて、カードが存在するなら裏返す。\n",
    "\n",
    "### 間違った解釈\n",
    "以下の操作ではない。\n",
    "```python\n",
    "for i in ALL_MASU:\n",
    "    if i_around_cards is exists:\n",
    "        i = URA\n",
    "    else:\n",
    "        pass\n",
    "```\n",
    "### 正しい解釈\n",
    "```python\n",
    "for i in ALL_MUSU:\n",
    "    for jj in i_around_cars:\n",
    "        if jj is exists:\n",
    "            jj = not(jj)\n",
    "```"
   ]
  },
  {
   "cell_type": "markdown",
   "metadata": {},
   "source": [
    "# 方針\n",
    "```\n",
    "-----------  \n",
    "--*****----  \n",
    "--*****----  \n",
    "--*****----  \n",
    "-----------  \n",
    "```\n",
    "のように、カード(*)がすべて表向きで配置されている。  \n",
    "左上のカードがあるマスに関する操作を行うと、以下のようになる。\n",
    "```\n",
    "-----------  \n",
    "--●○***----  \n",
    "--○○***----  \n",
    "--*****----  \n",
    "-----------  \n",
    "```\n",
    "\n",
    "表or裏かは、隣接するカードの数に依って決まる。ただし、N,Mが共に３以上の時。\n",
    "- 角のカード：３枚のカードに隣接するので、自分を含め、４回裏返す。依って、表。\n",
    "- 辺のカード：５枚のカードに隣接するので、自分を含め、６回裏返す。依って、表。\n",
    "- 内のカード：８枚のカードに隣接するので、自分を含め、９回裏返す。依って、裏。\n",
    "以上より、内側のカードだけカウントすればよいの、(N-2)*(M-2)である。\n",
    "\n",
    "次に例外的なケースを考えよう。\n",
    "- [N==M==1] 1\n",
    "- [N==1 or M==1] 内のカードが存在しない。端は表、それ以外は裏なので、N*M-2\n",
    "- [N==2 or M==2] 内のカードが存在しない。0。一般的なケースに含めてよい。"
   ]
  },
  {
   "cell_type": "code",
   "execution_count": 3,
   "metadata": {},
   "outputs": [
    {
     "name": "stdout",
     "output_type": "stream",
     "text": [
      "496080\n"
     ]
    }
   ],
   "source": [
    "N, M = [int(x) for x in input().split()]\n",
    "if N == 1 and M == 1:\n",
    "    print(1)\n",
    "elif N == 1 or M == 1:\n",
    "    print(N*M-2)\n",
    "else:\n",
    "    print((N-2)*(M-2))"
   ]
  },
  {
   "cell_type": "code",
   "execution_count": null,
   "metadata": {},
   "outputs": [],
   "source": []
  }
 ],
 "metadata": {
  "interpreter": {
   "hash": "490f1c2dbba3b6e66347447b5b555b0a6d7bd3e1827bc2938cd9180af86153ea"
  },
  "kernelspec": {
   "display_name": "Python 3.6.12 ('py36')",
   "language": "python",
   "name": "python3"
  },
  "language_info": {
   "codemirror_mode": {
    "name": "ipython",
    "version": 3
   },
   "file_extension": ".py",
   "mimetype": "text/x-python",
   "name": "python",
   "nbconvert_exporter": "python",
   "pygments_lexer": "ipython3",
   "version": "3.6.12"
  },
  "orig_nbformat": 4
 },
 "nbformat": 4,
 "nbformat_minor": 2
}
