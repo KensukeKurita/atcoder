{
 "cells": [
  {
   "cell_type": "markdown",
   "metadata": {},
   "source": [
    "# 問題\n",
    "ABC060-C  \n",
    "\n",
    "スイッチを押すとT秒間お湯がでる。  \n",
    "i人目は、１人目の人がスイッチを押した$t_i$間にスイッチを押す。  \n",
    "お湯が出るトータル時間は？"
   ]
  },
  {
   "cell_type": "markdown",
   "metadata": {},
   "source": [
    "# 方針\n",
    "$t_i + T \\leq t_{i+1} $の場合、$t_i$以降はT秒間お湯が出る。  \n",
    "$t_i + T > t_{i+1} $の場合、$t_i$以降は$t_{i+1} - t_{i}$秒間お湯が出る。"
   ]
  },
  {
   "cell_type": "code",
   "execution_count": 5,
   "metadata": {},
   "outputs": [
    {
     "name": "stdout",
     "output_type": "stream",
     "text": [
      "67\n"
     ]
    }
   ],
   "source": [
    "N, T = map(int, input().split())\n",
    "t = [int(x) for x in input().split()]\n",
    "\n",
    "total_time = 0\n",
    "for i in range(N-1):\n",
    "    dt = t[i+1] - t[i]\n",
    "    if dt > T:\n",
    "        total_time += T\n",
    "    else:\n",
    "        total_time += dt\n",
    "\n",
    "# N番目の人は確実にT秒間お湯が出る\n",
    "total_time += T\n",
    "print(total_time)\n"
   ]
  },
  {
   "cell_type": "code",
   "execution_count": null,
   "metadata": {},
   "outputs": [],
   "source": []
  }
 ],
 "metadata": {
  "interpreter": {
   "hash": "490f1c2dbba3b6e66347447b5b555b0a6d7bd3e1827bc2938cd9180af86153ea"
  },
  "kernelspec": {
   "display_name": "Python 3.6.12 ('py36')",
   "language": "python",
   "name": "python3"
  },
  "language_info": {
   "codemirror_mode": {
    "name": "ipython",
    "version": 3
   },
   "file_extension": ".py",
   "mimetype": "text/x-python",
   "name": "python",
   "nbconvert_exporter": "python",
   "pygments_lexer": "ipython3",
   "version": "3.6.12"
  },
  "orig_nbformat": 4
 },
 "nbformat": 4,
 "nbformat_minor": 2
}
